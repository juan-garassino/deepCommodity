{
 "cells": [
  {
   "cell_type": "code",
   "execution_count": null,
   "metadata": {},
   "outputs": [],
   "source": [
    "%load_ext autoreload\n",
    "%autoreload 2\n",
    "\n",
    "import os"
   ]
  },
  {
   "cell_type": "code",
   "execution_count": null,
   "metadata": {},
   "outputs": [],
   "source": [
    "from deepCommodity.sourcing.api_sourcing import get_fred_data\n",
    "\n",
    "fred_api_key = os.environ.get('FRED_API_KEY')\n",
    "\n",
    "csv_filename = 'test_fred.csv'\n",
    "\n",
    "start_date = '2000-01-01'\n",
    "\n",
    "end_date = '2010-02-23'\n",
    "\n",
    "series_list = [\n",
    "    'DGS10', 'GDP', 'UNRATE', 'FEDFUNDS', 'CPALTT01USM657N', 'SP500',\n",
    "    'NASDAQCOM', 'DJIA', 'VIXCLS', 'M2SL'\n",
    "]\n",
    "\n",
    "df_fred = get_fred_data(series_list,\n",
    "                   start_date,\n",
    "                   end_date,\n",
    "                   fred_api_key,\n",
    "                   csv_filename=csv_filename,\n",
    "                   to_bigquery=False,\n",
    "                   bq_dataset=None,\n",
    "                   bq_table=None)\n",
    "\n",
    "df_fred.head(3)\n"
   ]
  },
  {
   "cell_type": "code",
   "execution_count": null,
   "metadata": {},
   "outputs": [],
   "source": [
    "from deepCommodity.sourcing.api_sourcing import  get_historical_data_to_csv\n",
    "\n",
    "csv_filename = 'test_crypto.csv'\n",
    "\n",
    "start_date = '01-01-2018'\n",
    "\n",
    "end_date = '02-01-2020'\n",
    "\n",
    "crypto_ids = ['bitcoin', 'ethereum']\n",
    "\n",
    "def_crypto = get_historical_data_to_csv(crypto_ids, start_date, end_date, csv_filename)\n",
    "\n",
    "def_crypto.head(3)"
   ]
  },
  {
   "cell_type": "code",
   "execution_count": null,
   "metadata": {},
   "outputs": [],
   "source": [
    "from deepCommodity.sourcing.api_sourcing import get_multi_historical_data_to_dataframe\n",
    "\n",
    "\n",
    "interval = '60min'\n",
    "\n",
    "start_date = '01-01-2022'\n",
    "\n",
    "end_date = '02-01-2022'\n",
    "\n",
    "alpha_api_key = os.environ.get('ALPHA_API_KEY')\n",
    "\n",
    "indicators = [\n",
    "        'SMA', 'EMA', 'STOCH', 'RSI', 'ADX', 'CCI', 'AROON', 'BBANDS', 'MACD'\n",
    "    ]\n",
    "\n",
    "symbols = [\n",
    "    'GOOGL', 'MSFT', 'TSLA', 'NVDA', 'YPF', 'AAPL', 'AMZN', 'FB', 'NFLX'\n",
    "]\n",
    "\n",
    "get_multi_historical_data_to_dataframe(alpha_api_key, csv_filename, symbols,\n",
    "                                       interval, start_date, end_date)\n"
   ]
  },
  {
   "cell_type": "code",
   "execution_count": null,
   "metadata": {},
   "outputs": [],
   "source": [
    "from deepCommodity.sourcing.api_sourcing import (get_commodity_prices, get_exchange_rates, get_multi_technical_indicators)\n",
    "\n",
    "get_exchange_rates(start_date, end_date, symbols, alpha_api_key)"
   ]
  },
  {
   "cell_type": "code",
   "execution_count": null,
   "metadata": {},
   "outputs": [],
   "source": [
    "get_multi_technical_indicators(symbols, indicators, interval, alpha_api_key,\n",
    "                               start_date, end_date)"
   ]
  },
  {
   "cell_type": "code",
   "execution_count": null,
   "metadata": {},
   "outputs": [],
   "source": [
    "get_commodity_prices(start_date, end_date, symbols)"
   ]
  },
  {
   "cell_type": "code",
   "execution_count": null,
   "metadata": {},
   "outputs": [],
   "source": []
  }
 ],
 "metadata": {
  "kernelspec": {
   "display_name": "deepCommodity",
   "language": "python",
   "name": "python3"
  },
  "language_info": {
   "codemirror_mode": {
    "name": "ipython",
    "version": 3
   },
   "file_extension": ".py",
   "mimetype": "text/x-python",
   "name": "python",
   "nbconvert_exporter": "python",
   "pygments_lexer": "ipython3",
   "version": "3.10.6"
  },
  "orig_nbformat": 4,
  "vscode": {
   "interpreter": {
    "hash": "d669b381545bc85c49b5cf0d635edb778af9b01ee8a66a01fe2b9ed98d8fa227"
   }
  }
 },
 "nbformat": 4,
 "nbformat_minor": 2
}
