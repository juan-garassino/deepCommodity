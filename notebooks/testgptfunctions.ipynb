{
 "cells": [
  {
   "cell_type": "code",
   "execution_count": 1,
   "metadata": {},
   "outputs": [
    {
     "ename": "ModuleNotFoundError",
     "evalue": "No module named 'deepCommodity'",
     "output_type": "error",
     "traceback": [
      "\u001b[0;31m---------------------------------------------------------------------------\u001b[0m",
      "\u001b[0;31mModuleNotFoundError\u001b[0m                       Traceback (most recent call last)",
      "Cell \u001b[0;32mIn[1], line 1\u001b[0m\n\u001b[0;32m----> 1\u001b[0m \u001b[39mfrom\u001b[39;00m \u001b[39mdeepCommodity\u001b[39;00m\u001b[39m.\u001b[39;00m\u001b[39msourcing\u001b[39;00m\u001b[39m.\u001b[39;00m\u001b[39mapi_sourcing\u001b[39;00m \u001b[39mimport\u001b[39;00m (get_bond_yields, \n\u001b[1;32m      2\u001b[0m                                                  get_commodity_prices,\n\u001b[1;32m      3\u001b[0m                                                  get_economic_indicators,\n\u001b[1;32m      4\u001b[0m                                                  get_exchange_rates,\n\u001b[1;32m      5\u001b[0m                                                  get_historical_data_to_csv,\n\u001b[1;32m      6\u001b[0m                                                  get_multi_historical_data_to_csv,\n\u001b[1;32m      7\u001b[0m                                                  get_technical_indicators)\n",
      "\u001b[0;31mModuleNotFoundError\u001b[0m: No module named 'deepCommodity'"
     ]
    }
   ],
   "source": [
    "from deepCommodity.sourcing.api_sourcing import (get_bond_yields, \n",
    "                                                 get_commodity_prices,\n",
    "                                                 get_economic_indicators,\n",
    "                                                 get_exchange_rates,\n",
    "                                                 get_historical_data_to_csv,\n",
    "                                                 get_multi_historical_data_to_csv,\n",
    "                                                 get_technical_indicators)"
   ]
  },
  {
   "cell_type": "code",
   "execution_count": null,
   "metadata": {},
   "outputs": [],
   "source": [
    "get_historical_data_to_csv('bitcoin', '01/01/2022', '02/01/2022', 'test.csv')"
   ]
  }
 ],
 "metadata": {
  "kernelspec": {
   "display_name": "Python 3",
   "language": "python",
   "name": "python3"
  },
  "language_info": {
   "codemirror_mode": {
    "name": "ipython",
    "version": 3
   },
   "file_extension": ".py",
   "mimetype": "text/x-python",
   "name": "python",
   "nbconvert_exporter": "python",
   "pygments_lexer": "ipython3",
   "version": "3.10.6"
  },
  "orig_nbformat": 4,
  "vscode": {
   "interpreter": {
    "hash": "d8762797023d65a271cacf49ff7f1902711f481f5078e314401cace1a6c65e42"
   }
  }
 },
 "nbformat": 4,
 "nbformat_minor": 2
}
