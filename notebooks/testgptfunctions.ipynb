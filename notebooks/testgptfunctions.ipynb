{
 "cells": [
  {
   "cell_type": "code",
   "execution_count": 8,
   "metadata": {},
   "outputs": [
    {
     "name": "stdout",
     "output_type": "stream",
     "text": [
      "The autoreload extension is already loaded. To reload it, use:\n",
      "  %reload_ext autoreload\n"
     ]
    }
   ],
   "source": [
    "%load_ext autoreload\n",
    "%autoreload 2\n",
    "\n",
    "import os"
   ]
  },
  {
   "cell_type": "code",
   "execution_count": 12,
   "metadata": {},
   "outputs": [
    {
     "data": {
      "text/html": [
       "<div>\n",
       "<style scoped>\n",
       "    .dataframe tbody tr th:only-of-type {\n",
       "        vertical-align: middle;\n",
       "    }\n",
       "\n",
       "    .dataframe tbody tr th {\n",
       "        vertical-align: top;\n",
       "    }\n",
       "\n",
       "    .dataframe thead th {\n",
       "        text-align: right;\n",
       "    }\n",
       "</style>\n",
       "<table border=\"1\" class=\"dataframe\">\n",
       "  <thead>\n",
       "    <tr style=\"text-align: right;\">\n",
       "      <th></th>\n",
       "      <th>DGS10</th>\n",
       "      <th>GDP</th>\n",
       "      <th>UNRATE</th>\n",
       "      <th>FEDFUNDS</th>\n",
       "      <th>CPALTT01USM657N</th>\n",
       "      <th>SP500</th>\n",
       "      <th>NASDAQCOM</th>\n",
       "      <th>DJIA</th>\n",
       "      <th>VIXCLS</th>\n",
       "      <th>M2SL</th>\n",
       "    </tr>\n",
       "  </thead>\n",
       "  <tbody>\n",
       "    <tr>\n",
       "      <th>2013-07-01</th>\n",
       "      <td>2.73</td>\n",
       "      <td>17022.091</td>\n",
       "      <td>7.1</td>\n",
       "      <td>0.09</td>\n",
       "      <td>-0.032393</td>\n",
       "      <td>1721.81</td>\n",
       "      <td>3798.985859</td>\n",
       "      <td>15510.63</td>\n",
       "      <td>14.26</td>\n",
       "      <td>10886.1</td>\n",
       "    </tr>\n",
       "    <tr>\n",
       "      <th>2014-01-01</th>\n",
       "      <td>2.69</td>\n",
       "      <td>17303.492</td>\n",
       "      <td>6.4</td>\n",
       "      <td>0.08</td>\n",
       "      <td>0.375162</td>\n",
       "      <td>1868.15</td>\n",
       "      <td>4202.987823</td>\n",
       "      <td>16393.79</td>\n",
       "      <td>13.77</td>\n",
       "      <td>11234.0</td>\n",
       "    </tr>\n",
       "    <tr>\n",
       "      <th>2014-07-01</th>\n",
       "      <td>2.39</td>\n",
       "      <td>17797.884</td>\n",
       "      <td>5.9</td>\n",
       "      <td>0.10</td>\n",
       "      <td>-0.248166</td>\n",
       "      <td>1992.63</td>\n",
       "      <td>4541.840703</td>\n",
       "      <td>17149.59</td>\n",
       "      <td>14.57</td>\n",
       "      <td>11543.6</td>\n",
       "    </tr>\n",
       "  </tbody>\n",
       "</table>\n",
       "</div>"
      ],
      "text/plain": [
       "            DGS10        GDP  UNRATE  FEDFUNDS  CPALTT01USM657N    SP500  \\\n",
       "2013-07-01   2.73  17022.091     7.1      0.09        -0.032393  1721.81   \n",
       "2014-01-01   2.69  17303.492     6.4      0.08         0.375162  1868.15   \n",
       "2014-07-01   2.39  17797.884     5.9      0.10        -0.248166  1992.63   \n",
       "\n",
       "              NASDAQCOM      DJIA  VIXCLS     M2SL  \n",
       "2013-07-01  3798.985859  15510.63   14.26  10886.1  \n",
       "2014-01-01  4202.987823  16393.79   13.77  11234.0  \n",
       "2014-07-01  4541.840703  17149.59   14.57  11543.6  "
      ]
     },
     "execution_count": 12,
     "metadata": {},
     "output_type": "execute_result"
    }
   ],
   "source": [
    "from deepCommodity.sourcing.api_sourcing import retrieve_fred_data\n",
    "\n",
    "fred_api_key = os.environ.get('FRED_API_KEY')\n",
    "\n",
    "csv_filename = 'test_fred.csv'\n",
    "\n",
    "start_date = '2000-01-01'\n",
    "\n",
    "end_date = '2023-01-01'\n",
    "\n",
    "series_ids = [\n",
    "    'DGS10', 'GDP', 'UNRATE', 'FEDFUNDS', 'CPALTT01USM657N', 'SP500',\n",
    "    'NASDAQCOM', 'DJIA', 'VIXCLS', 'M2SL'\n",
    "]\n",
    "\n",
    "df_fred = retrieve_fred_data(series_ids,\n",
    "                             start_date,\n",
    "                             end_date,\n",
    "                             frequency='sa',\n",
    "                             api_key=None,\n",
    "                             csv_filename=None,\n",
    "                             bq_dataset=None,\n",
    "                             bq_table=None)\n",
    "\n",
    "df_fred.head(3)\n"
   ]
  },
  {
   "cell_type": "code",
   "execution_count": 3,
   "metadata": {},
   "outputs": [
    {
     "ename": "ValueError",
     "evalue": "Length of values (3532) does not match length of index (3533)",
     "output_type": "error",
     "traceback": [
      "\u001b[0;31m---------------------------------------------------------------------------\u001b[0m",
      "\u001b[0;31mValueError\u001b[0m                                Traceback (most recent call last)",
      "Cell \u001b[0;32mIn[3], line 11\u001b[0m\n\u001b[1;32m      7\u001b[0m end_date \u001b[39m=\u001b[39m \u001b[39m'\u001b[39m\u001b[39m01-01-2023\u001b[39m\u001b[39m'\u001b[39m\n\u001b[1;32m      9\u001b[0m crypto_ids \u001b[39m=\u001b[39m [\u001b[39m'\u001b[39m\u001b[39mbitcoin\u001b[39m\u001b[39m'\u001b[39m, \u001b[39m'\u001b[39m\u001b[39methereum\u001b[39m\u001b[39m'\u001b[39m]\n\u001b[0;32m---> 11\u001b[0m def_crypto \u001b[39m=\u001b[39m get_historical_data_to_csv(crypto_ids, start_date, end_date, csv_filename)\n\u001b[1;32m     13\u001b[0m def_crypto\u001b[39m.\u001b[39mhead(\u001b[39m3\u001b[39m)\n",
      "File \u001b[0;32m~/Code/juan-garassino/deepCommodity/deepCommodity/sourcing/api_sourcing.py:126\u001b[0m, in \u001b[0;36mget_historical_data_to_csv\u001b[0;34m(crypto_ids, start_date, end_date, csv_filename)\u001b[0m\n\u001b[1;32m    123\u001b[0m \u001b[39m# Create DataFrame for this crypto and add to main DataFrame\u001b[39;00m\n\u001b[1;32m    124\u001b[0m crypto_df \u001b[39m=\u001b[39m pd\u001b[39m.\u001b[39mDataFrame(prices,\n\u001b[1;32m    125\u001b[0m                          columns\u001b[39m=\u001b[39m[\u001b[39m'\u001b[39m\u001b[39mtimestamp\u001b[39m\u001b[39m'\u001b[39m, \u001b[39mf\u001b[39m\u001b[39m'\u001b[39m\u001b[39m{\u001b[39;00mcrypto_id\u001b[39m}\u001b[39;00m\u001b[39m_price\u001b[39m\u001b[39m'\u001b[39m])\n\u001b[0;32m--> 126\u001b[0m crypto_df[\u001b[39mf\u001b[39;49m\u001b[39m'\u001b[39;49m\u001b[39m{\u001b[39;49;00mcrypto_id\u001b[39m}\u001b[39;49;00m\u001b[39m_market_cap\u001b[39;49m\u001b[39m'\u001b[39;49m] \u001b[39m=\u001b[39m [\n\u001b[1;32m    127\u001b[0m     market_cap[\u001b[39m1\u001b[39m] \u001b[39mfor\u001b[39;00m market_cap \u001b[39min\u001b[39;00m market_caps\n\u001b[1;32m    128\u001b[0m ]\n\u001b[1;32m    129\u001b[0m crypto_df[\u001b[39mf\u001b[39m\u001b[39m'\u001b[39m\u001b[39m{\u001b[39;00mcrypto_id\u001b[39m}\u001b[39;00m\u001b[39m_total_volume\u001b[39m\u001b[39m'\u001b[39m] \u001b[39m=\u001b[39m [\n\u001b[1;32m    130\u001b[0m     total_volume[\u001b[39m1\u001b[39m] \u001b[39mfor\u001b[39;00m total_volume \u001b[39min\u001b[39;00m total_volumes\n\u001b[1;32m    131\u001b[0m ]\n\u001b[1;32m    132\u001b[0m crypto_df[\u001b[39m'\u001b[39m\u001b[39mtimestamp\u001b[39m\u001b[39m'\u001b[39m] \u001b[39m=\u001b[39m crypto_df[\u001b[39m'\u001b[39m\u001b[39mtimestamp\u001b[39m\u001b[39m'\u001b[39m]\u001b[39m.\u001b[39mapply(\n\u001b[1;32m    133\u001b[0m     \u001b[39mlambda\u001b[39;00m x: datetime\u001b[39m.\u001b[39mfromtimestamp(x \u001b[39m/\u001b[39m \u001b[39m1000\u001b[39m))\n",
      "File \u001b[0;32m~/.pyenv/versions/3.10.6/envs/deepCommodity/lib/python3.10/site-packages/pandas/core/frame.py:3980\u001b[0m, in \u001b[0;36mDataFrame.__setitem__\u001b[0;34m(self, key, value)\u001b[0m\n\u001b[1;32m   3977\u001b[0m     \u001b[39mself\u001b[39m\u001b[39m.\u001b[39m_setitem_array([key], value)\n\u001b[1;32m   3978\u001b[0m \u001b[39melse\u001b[39;00m:\n\u001b[1;32m   3979\u001b[0m     \u001b[39m# set column\u001b[39;00m\n\u001b[0;32m-> 3980\u001b[0m     \u001b[39mself\u001b[39;49m\u001b[39m.\u001b[39;49m_set_item(key, value)\n",
      "File \u001b[0;32m~/.pyenv/versions/3.10.6/envs/deepCommodity/lib/python3.10/site-packages/pandas/core/frame.py:4174\u001b[0m, in \u001b[0;36mDataFrame._set_item\u001b[0;34m(self, key, value)\u001b[0m\n\u001b[1;32m   4164\u001b[0m \u001b[39mdef\u001b[39;00m \u001b[39m_set_item\u001b[39m(\u001b[39mself\u001b[39m, key, value) \u001b[39m-\u001b[39m\u001b[39m>\u001b[39m \u001b[39mNone\u001b[39;00m:\n\u001b[1;32m   4165\u001b[0m \u001b[39m    \u001b[39m\u001b[39m\"\"\"\u001b[39;00m\n\u001b[1;32m   4166\u001b[0m \u001b[39m    Add series to DataFrame in specified column.\u001b[39;00m\n\u001b[1;32m   4167\u001b[0m \n\u001b[0;32m   (...)\u001b[0m\n\u001b[1;32m   4172\u001b[0m \u001b[39m    ensure homogeneity.\u001b[39;00m\n\u001b[1;32m   4173\u001b[0m \u001b[39m    \"\"\"\u001b[39;00m\n\u001b[0;32m-> 4174\u001b[0m     value \u001b[39m=\u001b[39m \u001b[39mself\u001b[39;49m\u001b[39m.\u001b[39;49m_sanitize_column(value)\n\u001b[1;32m   4176\u001b[0m     \u001b[39mif\u001b[39;00m (\n\u001b[1;32m   4177\u001b[0m         key \u001b[39min\u001b[39;00m \u001b[39mself\u001b[39m\u001b[39m.\u001b[39mcolumns\n\u001b[1;32m   4178\u001b[0m         \u001b[39mand\u001b[39;00m value\u001b[39m.\u001b[39mndim \u001b[39m==\u001b[39m \u001b[39m1\u001b[39m\n\u001b[1;32m   4179\u001b[0m         \u001b[39mand\u001b[39;00m \u001b[39mnot\u001b[39;00m is_extension_array_dtype(value)\n\u001b[1;32m   4180\u001b[0m     ):\n\u001b[1;32m   4181\u001b[0m         \u001b[39m# broadcast across multiple columns if necessary\u001b[39;00m\n\u001b[1;32m   4182\u001b[0m         \u001b[39mif\u001b[39;00m \u001b[39mnot\u001b[39;00m \u001b[39mself\u001b[39m\u001b[39m.\u001b[39mcolumns\u001b[39m.\u001b[39mis_unique \u001b[39mor\u001b[39;00m \u001b[39misinstance\u001b[39m(\u001b[39mself\u001b[39m\u001b[39m.\u001b[39mcolumns, MultiIndex):\n",
      "File \u001b[0;32m~/.pyenv/versions/3.10.6/envs/deepCommodity/lib/python3.10/site-packages/pandas/core/frame.py:4915\u001b[0m, in \u001b[0;36mDataFrame._sanitize_column\u001b[0;34m(self, value)\u001b[0m\n\u001b[1;32m   4912\u001b[0m     \u001b[39mreturn\u001b[39;00m _reindex_for_setitem(Series(value), \u001b[39mself\u001b[39m\u001b[39m.\u001b[39mindex)\n\u001b[1;32m   4914\u001b[0m \u001b[39mif\u001b[39;00m is_list_like(value):\n\u001b[0;32m-> 4915\u001b[0m     com\u001b[39m.\u001b[39;49mrequire_length_match(value, \u001b[39mself\u001b[39;49m\u001b[39m.\u001b[39;49mindex)\n\u001b[1;32m   4916\u001b[0m \u001b[39mreturn\u001b[39;00m sanitize_array(value, \u001b[39mself\u001b[39m\u001b[39m.\u001b[39mindex, copy\u001b[39m=\u001b[39m\u001b[39mTrue\u001b[39;00m, allow_2d\u001b[39m=\u001b[39m\u001b[39mTrue\u001b[39;00m)\n",
      "File \u001b[0;32m~/.pyenv/versions/3.10.6/envs/deepCommodity/lib/python3.10/site-packages/pandas/core/common.py:571\u001b[0m, in \u001b[0;36mrequire_length_match\u001b[0;34m(data, index)\u001b[0m\n\u001b[1;32m    567\u001b[0m \u001b[39m\u001b[39m\u001b[39m\"\"\"\u001b[39;00m\n\u001b[1;32m    568\u001b[0m \u001b[39mCheck the length of data matches the length of the index.\u001b[39;00m\n\u001b[1;32m    569\u001b[0m \u001b[39m\"\"\"\u001b[39;00m\n\u001b[1;32m    570\u001b[0m \u001b[39mif\u001b[39;00m \u001b[39mlen\u001b[39m(data) \u001b[39m!=\u001b[39m \u001b[39mlen\u001b[39m(index):\n\u001b[0;32m--> 571\u001b[0m     \u001b[39mraise\u001b[39;00m \u001b[39mValueError\u001b[39;00m(\n\u001b[1;32m    572\u001b[0m         \u001b[39m\"\u001b[39m\u001b[39mLength of values \u001b[39m\u001b[39m\"\u001b[39m\n\u001b[1;32m    573\u001b[0m         \u001b[39mf\u001b[39m\u001b[39m\"\u001b[39m\u001b[39m(\u001b[39m\u001b[39m{\u001b[39;00m\u001b[39mlen\u001b[39m(data)\u001b[39m}\u001b[39;00m\u001b[39m) \u001b[39m\u001b[39m\"\u001b[39m\n\u001b[1;32m    574\u001b[0m         \u001b[39m\"\u001b[39m\u001b[39mdoes not match length of index \u001b[39m\u001b[39m\"\u001b[39m\n\u001b[1;32m    575\u001b[0m         \u001b[39mf\u001b[39m\u001b[39m\"\u001b[39m\u001b[39m(\u001b[39m\u001b[39m{\u001b[39;00m\u001b[39mlen\u001b[39m(index)\u001b[39m}\u001b[39;00m\u001b[39m)\u001b[39m\u001b[39m\"\u001b[39m\n\u001b[1;32m    576\u001b[0m     )\n",
      "\u001b[0;31mValueError\u001b[0m: Length of values (3532) does not match length of index (3533)"
     ]
    }
   ],
   "source": [
    "from deepCommodity.sourcing.api_sourcing import get_coin_gecko_data\n",
    "\n",
    "csv_filename = 'test_crypto.csv'\n",
    "\n",
    "start_date = '01-01-2010'\n",
    "\n",
    "end_date = '01-01-2023'\n",
    "\n",
    "crypto_ids = ['bitcoin', 'ethereum']\n",
    "\n",
    "def_crypto = get_historical_data_to_csv(crypto_ids, start_date, end_date, csv_filename)\n",
    "\n",
    "def_crypto.head(3)"
   ]
  },
  {
   "cell_type": "code",
   "execution_count": null,
   "metadata": {},
   "outputs": [],
   "source": [
    "from deepCommodity.sourcing.api_sourcing import get_multi_historical_data_to_dataframe\n",
    "\n",
    "\n",
    "interval = '60min'\n",
    "\n",
    "start_date = '01-01-2022'\n",
    "\n",
    "end_date = '02-01-2022'\n",
    "\n",
    "alpha_api_key = os.environ.get('ALPHA_API_KEY')\n",
    "\n",
    "indicators = [\n",
    "        'SMA', 'EMA', 'STOCH', 'RSI', 'ADX', 'CCI', 'AROON', 'BBANDS', 'MACD'\n",
    "    ]\n",
    "\n",
    "symbols = [\n",
    "    'GOOGL', 'MSFT', 'TSLA', 'NVDA', 'YPF', 'AAPL', 'AMZN', 'FB', 'NFLX'\n",
    "]\n",
    "\n",
    "get_multi_historical_data_to_dataframe(alpha_api_key, csv_filename, symbols,\n",
    "                                       interval, start_date, end_date)\n"
   ]
  },
  {
   "cell_type": "code",
   "execution_count": null,
   "metadata": {},
   "outputs": [],
   "source": [
    "from deepCommodity.sourcing.api_sourcing import (get_commodity_prices, get_exchange_rates, get_multi_technical_indicators)\n",
    "\n",
    "get_exchange_rates(start_date, end_date, symbols, alpha_api_key)"
   ]
  },
  {
   "cell_type": "code",
   "execution_count": null,
   "metadata": {},
   "outputs": [],
   "source": [
    "get_multi_technical_indicators(symbols, indicators, interval, alpha_api_key,\n",
    "                               start_date, end_date)"
   ]
  },
  {
   "cell_type": "code",
   "execution_count": null,
   "metadata": {},
   "outputs": [],
   "source": [
    "get_commodity_prices(start_date, end_date, symbols)"
   ]
  },
  {
   "cell_type": "code",
   "execution_count": null,
   "metadata": {},
   "outputs": [],
   "source": []
  }
 ],
 "metadata": {
  "kernelspec": {
   "display_name": "deepCommodity",
   "language": "python",
   "name": "python3"
  },
  "language_info": {
   "codemirror_mode": {
    "name": "ipython",
    "version": 3
   },
   "file_extension": ".py",
   "mimetype": "text/x-python",
   "name": "python",
   "nbconvert_exporter": "python",
   "pygments_lexer": "ipython3",
   "version": "3.10.6"
  },
  "orig_nbformat": 4,
  "vscode": {
   "interpreter": {
    "hash": "d669b381545bc85c49b5cf0d635edb778af9b01ee8a66a01fe2b9ed98d8fa227"
   }
  }
 },
 "nbformat": 4,
 "nbformat_minor": 2
}
